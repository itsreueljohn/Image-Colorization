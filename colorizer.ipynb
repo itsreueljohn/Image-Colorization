{
  "nbformat": 4,
  "nbformat_minor": 0,
  "metadata": {
    "colab": {
      "name": "Copy of SelfResnet.ipynb",
      "provenance": [],
      "collapsed_sections": [],
      "machine_shape": "hm"
    },
    "kernelspec": {
      "name": "python3",
      "display_name": "Python 3"
    },
    "accelerator": "GPU"
  },
  "cells": [
    {
      "cell_type": "code",
      "metadata": {
        "id": "cgx_5DDHO0Po",
        "colab_type": "code",
        "colab": {}
      },
      "source": [
        "import keras\n",
        "from keras.engine import Layer\n",
        "from keras.applications.inception_resnet_v2 import InceptionResNetV2\n",
        "from keras.layers import Conv2D, Conv3D, UpSampling2D, InputLayer, Conv2DTranspose, Input, Reshape, merge, concatenate\n",
        "from keras.layers import Activation, Dense, Dropout, Flatten\n",
        "from keras.callbacks import TensorBoard\n",
        "from keras.models import Sequential, Model\n",
        "from keras.preprocessing.image import ImageDataGenerator, array_to_img, img_to_array, load_img\n",
        "from skimage.color import rgb2lab, lab2rgb, rgb2gray, gray2rgb\n",
        "from skimage.transform import resize\n",
        "from skimage.io import imsave\n",
        "import numpy as np\n",
        "import os\n",
        "import random\n",
        "import tensorflow as tf\n",
        "# tf.disable_v2_behavior()\n",
        "from keras.losses import mae\n",
        "from keras.layers.core import RepeatVector\n",
        "from google.colab import drive"
      ],
      "execution_count": 0,
      "outputs": []
    },
    {
      "cell_type": "code",
      "metadata": {
        "id": "siDwborIY8Zv",
        "colab_type": "code",
        "colab": {}
      },
      "source": [
        "#IMPORTING INCEPTION RESNET V2 WEIGHTS\n",
        "inception = InceptionResNetV2(weights='imagenet', include_top=True)       #pre-trained model for feature extraction\n",
        "inception.graph = tf.get_default_graph()\n",
        "\n",
        "for layer in inception.layers:                                          \n",
        "    layer.trainable=False"
      ],
      "execution_count": 0,
      "outputs": []
    },
    {
      "cell_type": "code",
      "metadata": {
        "id": "wg1ZeMSXZDmm",
        "colab_type": "code",
        "colab": {}
      },
      "source": [
        "from google.colab import drive\n",
        "drive.mount('/content/drive/')\n",
        "#drive.mount('Nandini')"
      ],
      "execution_count": 0,
      "outputs": []
    },
    {
      "cell_type": "code",
      "metadata": {
        "id": "ARqEl26kjXt-",
        "colab_type": "code",
        "colab": {}
      },
      "source": [
        "#READING 10000 FACES DATASET AND APPENDING TO ARRAY X\n",
        "path='/content/drive/My Drive/ml project/10000-20191123T180734Z-003/10000/'\n",
        "#path='Nandini/My Drive/ML/10000-20191123T180734Z-003/10000/'\n",
        "X=[]\n",
        "i=0\n",
        "for filename in os.listdir(path):\n",
        "  if i==1500:\n",
        "    break\n",
        "  print(i)\n",
        "  X.append(img_to_array(load_img(path+filename)))\n",
        "  i=i+1 \n",
        "# print(len(X))\n",
        "print(\"Images read\")"
      ],
      "execution_count": 0,
      "outputs": []
    },
    {
      "cell_type": "code",
      "metadata": {
        "id": "20-50KmyaYRI",
        "colab_type": "code",
        "outputId": "458c937c-0e80-49ad-aa0f-c7c1b29662e4",
        "colab": {
          "base_uri": "https://localhost:8080/",
          "height": 34
        }
      },
      "source": [
        "#CONVERTING INPUT FROM RGB TO LAB AND SAVING INTO Xtrain AND Ytrain AS INDEPENDENT AND DEPENDENT VARIABLES\n",
        "X=np.array(X)\n",
        "print(X.shape)\n",
        "X=1.0/255*X #normalizing because rgb2lab converts (0,1) to (-128,128) for ab channels and (-100,100) for L channel\n",
        "Xtrain=[]\n",
        "Ytrain=[]\n",
        "for i in X:\n",
        "    lab_img= rgb2lab(i)\n",
        "    l_values=lab_img[:,:,0]               #l channel of the lab image\n",
        "    ab_values=lab_img[:,:,1:]/128         #ab channels of the lab image. Normalized it to get values between -1 and 1\n",
        "    Xtrain.append(l_values)\n",
        "    Ytrain.append(ab_values)  "
      ],
      "execution_count": 0,
      "outputs": [
        {
          "output_type": "stream",
          "text": [
            "(1500, 256, 256, 3)\n"
          ],
          "name": "stdout"
        }
      ]
    },
    {
      "cell_type": "code",
      "metadata": {
        "id": "vaUFFrLbZjR3",
        "colab_type": "code",
        "outputId": "5b536ccf-08f3-4c54-eea1-dca5a83b55cc",
        "colab": {
          "base_uri": "https://localhost:8080/",
          "height": 34
        }
      },
      "source": [
        "#CONVERTING Xtrain AND Ytrain TO NUMPY ARRAYS FOR EASIER COMPUTATION\n",
        "Xtrain=np.array(Xtrain)\n",
        "Ytrain=np.array(Ytrain)\n",
        "Xtrain=Xtrain.reshape(Xtrain.shape+(1,))\n",
        "print(Xtrain.shape)"
      ],
      "execution_count": 0,
      "outputs": [
        {
          "output_type": "stream",
          "text": [
            "(1500, 256, 256, 1)\n"
          ],
          "name": "stdout"
        }
      ]
    },
    {
      "cell_type": "code",
      "metadata": {
        "id": "TSCL-3pTW50e",
        "colab_type": "code",
        "colab": {}
      },
      "source": [
        "#TO SAVE INPUTS (X AND Y) IF NEEDED\n",
        "np.save(\"/content/drive/My Drive/ml project/numpy/Xtrain_input_1500.npy\",Xtrain)\n",
        "np.save(\"/content/drive/My Drive/ml project/numpy/Ytrain_input_1500.npy\",Ytrain)"
      ],
      "execution_count": 0,
      "outputs": []
    },
    {
      "cell_type": "code",
      "metadata": {
        "id": "uTzBpCkwcb_W",
        "colab_type": "code",
        "colab": {}
      },
      "source": [
        "#LOADING FROM SAVED INPUTS\n",
        "Xtrain=[]\n",
        "Xtrain=np.load(\"/content/drive/My Drive/ml project/numpy/Xtrain_input_1500.npy\")\n",
        "Xtrain=np.array(Xtrain)\n",
        "\n",
        "Ytrain=[]\n",
        "Ytrain=np.load(\"/content/drive/My Drive/ml project/numpy/Ytrain_input_1500.npy\")\n",
        "Ytrain=np.array(Ytrain)"
      ],
      "execution_count": 0,
      "outputs": []
    },
    {
      "cell_type": "code",
      "metadata": {
        "id": "uBLJyeepryiE",
        "colab_type": "code",
        "colab": {}
      },
      "source": [
        "#LOADING FROM SAVED FEATURES\n",
        "features_from_inception = [] #features passed to inception resnet model and saved from before\n",
        "features_from_inception=np.load(\"/content/drive/My Drive/ml project/numpy/features_from_inception_1500_face.npy\")\n",
        "features_from_inception=np.array(features_from_inception)"
      ],
      "execution_count": 0,
      "outputs": []
    },
    {
      "cell_type": "code",
      "metadata": {
        "id": "6APJeMHDZlRn",
        "colab_type": "code",
        "colab": {}
      },
      "source": [
        "#MAIN MODEL\n",
        "feature_input_from_inception = Input(shape=(1000,))\n",
        "\n",
        "#Encoder that reduces dimensions and removes noise to extract local features\n",
        "input_to_extraction = Input(shape=(256, 256, 1,))\n",
        "extraction_output = Conv2D(64, (3,3), activation='relu', padding='same', strides=2)(input_to_extraction)\n",
        "extraction_output = Conv2D(128, (3,3), activation='relu', padding='same')(extraction_output)\n",
        "extraction_output = Conv2D(128, (3,3), activation='relu', padding='same', strides=2)(extraction_output) #strides=2 halves the first 2 dimensions\n",
        "extraction_output = Conv2D(256, (3,3), activation='relu',padding='same')(extraction_output)\n",
        "extraction_output = Dropout(0.35)(extraction_output)\n",
        "extraction_output = Conv2D(256, (3,3), activation='relu', padding='same', strides=2)(extraction_output) #output of dim 32, 32, 256\n",
        "extraction_output = Conv2D(512, (3,3), activation='relu', padding='same')(extraction_output)\n",
        "extraction_output = Dropout(0.35)(extraction_output)\n",
        "extraction_output = Conv2D(256, (3,3), activation='relu', padding='same')(extraction_output)\n",
        "extraction_output = Conv2D(256, (3,3), activation='relu', padding='same')(extraction_output) #optional - can add more layers\n",
        "\n",
        "#Global features obtained from inception resnet model are combined with local features of the compressed image extracted by encoder\n",
        "bottleneck = RepeatVector(32 * 32)(feature_input_from_inception) #To basically add a repeat vector of (Number of examples,32,1000) \n",
        "bottleneck = Reshape(([32, 32, 1000]))(bottleneck)\n",
        "bottleneck = concatenate([extraction_output, bottleneck], axis=3)\n",
        "\n",
        "#Decoder that expands dimensions to reconstruct original image\n",
        "colorizer_output = Conv2D(256, (1, 1), activation='relu', padding='same')(bottleneck) \n",
        "colorizer_output = Conv2D(128, (3,3), activation='relu', padding='same')(colorizer_output)\n",
        "colorizer_output = UpSampling2D((2, 2))(colorizer_output)\n",
        "colorizer_output = Conv2D(64, (3,3), activation='relu', padding='same')(colorizer_output)\n",
        "colorizer_output = Dropout(0.35)(colorizer_output)\n",
        "colorizer_output = UpSampling2D((2, 2))(colorizer_output)\n",
        "colorizer_output = Conv2D(32, (3,3), activation='relu', padding='same')(colorizer_output)\n",
        "colorizer_output = Dropout(0.35)(colorizer_output)\n",
        "colorizer_output = Conv2D(16, (3,3), activation='relu', padding='same')(colorizer_output)\n",
        "colorizer_output = Dropout(0.35)(colorizer_output)\n",
        "colorizer_output = Conv2D(2, (3, 3), activation='tanh', padding='same')(colorizer_output)\n",
        "colorizer_output = UpSampling2D((2, 2))(colorizer_output) #output of dim 256, 256, 2\n",
        "\n",
        "model = Model(inputs=[input_to_extraction, feature_input_from_inception], outputs = colorizer_output)\n",
        "from keras.utils import plot_model\n",
        "plot_model(model)    \n"
      ],
      "execution_count": 0,
      "outputs": []
    },
    {
      "cell_type": "code",
      "metadata": {
        "id": "QBSPMEKpZdkI",
        "colab_type": "code",
        "colab": {}
      },
      "source": [
        "#COMPUTING FEATURES USING INCEPTION RESNET MODEL. INCEPTION RESNET MODEL GIVES PROBABILITIES OF 1000 CLASSES\n",
        "features_from_inception=[]\n",
        "for l_image in Xtrain:\n",
        "  l_image= resize(l_image,(299,299,1))      #because of inception resnet v2\n",
        "  l_image=gray2rgb(l_image)\n",
        "  l_image=resize(l_image,(1,299,299,3))     #sending 1 image to the pretained model\n",
        "  prediction= inception.predict(l_image)\n",
        "  prediction=prediction[0]                  #prediction needs to be reshaped from (1,1000) to 1000\n",
        "  features_from_inception.append(prediction)\n",
        "features_from_inception=np.array(features_from_inception)\n",
        "np.save(\"/content/drive/My Drive/ml project/numpy/features_from_inception_2000_face.npy\",features_from_inception)\n",
        "print(\"Array saved\")"
      ],
      "execution_count": 0,
      "outputs": []
    },
    {
      "cell_type": "code",
      "metadata": {
        "id": "j_U0iZPfeayD",
        "colab_type": "code",
        "colab": {}
      },
      "source": [
        "#FOR FITTING THE TRAINING SET TO MODEL\n",
        "from keras import optimizers\n",
        "from keras import metrics\n",
        "tensorboard = TensorBoard(log_dir='/content/drive/My Drive/ml project/')\n",
        "model.compile(optimizer='adam', loss='mse', metrics=['accuracy','mse'])\n",
        "X_train = [Xtrain, features_from_inception]\n",
        "history = model.fit(X_train, Ytrain, verbose=1, epochs=20, batch_size=10, validation_split=0.1) #can add validation set\n",
        "model.save(\"/content/drive/My Drive/ml project/numpy/finalmodel.h5\")"
      ],
      "execution_count": 0,
      "outputs": []
    },
    {
      "cell_type": "code",
      "metadata": {
        "id": "yu0RBZU3gZr5",
        "colab_type": "code",
        "outputId": "7ba046a5-3d3a-4443-80c2-5c6c80155021",
        "colab": {
          "base_uri": "https://localhost:8080/",
          "height": 265
        }
      },
      "source": [
        "#PRINTS HISTORY OF ERROR THROUGHOUT TRAINING AND VALIDATION\n",
        "import matplotlib.pyplot as plt\n",
        "plt.plot(history.history['mean_squared_error'])\n",
        "plt.plot(history.history['val_mean_squared_error'])\n",
        "plt.legend(['Train', 'Validation'], loc='upper right')\n",
        "plt.show()\n",
        "# plt.plot(history.history['accuracy'])\n",
        "# plt.plot(history.history['val_accuracy'])\n",
        "# plt.show() "
      ],
      "execution_count": 0,
      "outputs": [
        {
          "output_type": "display_data",
          "data": {
            "image/png": "[encoded data removed]",
            "text/plain": [
              "<Figure size 432x288 with 1 Axes>"
            ]
          },
          "metadata": {
            "tags": []
          }
        }
      ]
    },
    {
      "cell_type": "code",
      "metadata": {
        "id": "OXmZrSHUrERL",
        "colab_type": "code",
        "colab": {}
      },
      "source": [
        "model.load_weights(\"/content/drive/My Drive/ml project/numpy/weights15001.h5\")"
      ],
      "execution_count": 0,
      "outputs": []
    },
    {
      "cell_type": "code",
      "metadata": {
        "id": "As-QshMt9kHi",
        "colab_type": "code",
        "colab": {}
      },
      "source": [
        "from keras.models import load_model\n",
        "#drive.mount('Nandini')\n",
        "#model=load_model(\"Nandini/My Drive/ML/numpy/finalmodel.h5\")\n",
        "model=load_model(\"/content/drive/My Drive/ml project/numpy/finalmodel.h5\")"
      ],
      "execution_count": 0,
      "outputs": []
    },
    {
      "cell_type": "code",
      "metadata": {
        "id": "4sOCpbORAYqU",
        "colab_type": "code",
        "colab": {}
      },
      "source": [
        "#TESTING AND SAVING RESULTS\n",
        "testpath='/content/drive/My Drive/ml project/Test/'\n",
        "#from google.colab import drive\n",
        "\n",
        "#testpath='Nandini/My Drive/Test/'\n",
        "files = os.listdir(testpath)\n",
        "test=[]\n",
        "print(files)\n",
        "for file in files:\n",
        "    test_img = img_to_array(load_img(testpath+file))\n",
        "    test_img = resize(test_img, (256,256), anti_aliasing=True)\n",
        "    test_img*= 1.0/255\n",
        "    test.append(test_img)\n",
        "\n",
        "Xtest=[]\n",
        "Ytest=[]\n",
        "for test_img in test:\n",
        "  lab=rgb2lab(test_img)\n",
        "  l_channel_test = lab[:,:,0]\n",
        "  ab_channel_test= lab[:,:,1:]/128\n",
        "  Xtest.append(l_channel_test)\n",
        "  Ytest.append(ab_channel_test)\n",
        "\n",
        "\n",
        "Xtest=np.array(Xtest)\n",
        "Ytest=np.array(Ytest)\n",
        "Xtest=Xtest.reshape(Xtest.shape+(1,))\n",
        "print(Xtest.shape)\n",
        "print(\"ytest: \",Ytest.shape)\n",
        "\n",
        "features_test_inception = []\n",
        "for l in Xtest:\n",
        "  l= resize(l,(299,299,1))      #because of inception resnet v2\n",
        "  l=gray2rgb(l)\n",
        "  l=resize(l,(1,299,299,3))     #sending 1 image to the pretained model\n",
        "  pred= inception.predict(l)\n",
        "  pred=pred[0]                  #prediction needs to be reshaped from (1,1000) to 1000\n",
        "  features_test_inception.append(pred)\n",
        "features_test_inception=np.array(features_test_inception)\n",
        "print(features_test_inception.shape)\n",
        "\n",
        "X_test=[Xtest,features_test_inception]\n",
        "test_ab = model.predict(X_test)  #model.evaluate()\n",
        "test_ab = test_ab * 128\n",
        "print(test_ab.shape)\n",
        "#test_error = mean((Ytest-test_ab)**2) ##??? need to check if ytest/ab is normalized. loss function is mse.\n",
        "\n",
        "for i in range(len(test_ab)):\n",
        "    final_img = np.zeros((256, 256, 3))\n",
        "    final_img[:,:,0] = Xtest[i][:,:,0]\n",
        "    final_img[:,:,1:] = test_ab[i]\n",
        "    imsave('/content/drive/My Drive/ml project/Result/'+str(i)+\"finalmse-difflayers.jpg\", lab2rgb(final_img))\n",
        "    #imsave('Nandini/My Drive/Result/'+str(i)+\"finalmse-difflayers.jpg\", lab2rgb(final_img))"
      ],
      "execution_count": 0,
      "outputs": []
    }
  ]
}